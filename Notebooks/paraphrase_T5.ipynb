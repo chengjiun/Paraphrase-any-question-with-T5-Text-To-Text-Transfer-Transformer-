{
 "cells": [
  {
   "cell_type": "code",
   "execution_count": 4,
   "metadata": {},
   "outputs": [
    {
     "name": "stdout",
     "output_type": "stream",
     "text": [
      "/home/chengjiun/Workspace/VisualText\n"
     ]
    }
   ],
   "source": [
    "%cd ~/Workspace/VisualText/"
   ]
  },
  {
   "cell_type": "code",
   "execution_count": 5,
   "metadata": {},
   "outputs": [],
   "source": [
    "import zipfile\n",
    "import requests, zipfile, io\n",
    "import os\n",
    "\n",
    "zip_file_url = \"https://datascience-models-ramsri.s3.amazonaws.com/t5_paraphraser.zip\"\n",
    "folder_path = zip_file_url.split(\"/\")[-1].replace(\".zip\",\"\")\n",
    "\n",
    "if not os.path.exists(folder_path):\n",
    "    r = requests.get(zip_file_url)\n",
    "    z = zipfile.ZipFile(io.BytesIO(r.content))\n",
    "    z.extractall('./t5_paraphraser')\n",
    "else:\n",
    "    print (\"Folder available: \",folder_path)"
   ]
  },
  {
   "cell_type": "code",
   "execution_count": 6,
   "metadata": {},
   "outputs": [],
   "source": [
    "import torch\n",
    "from transformers import T5ForConditionalGeneration,T5Tokenizer\n",
    "\n",
    "\n",
    "def set_seed(seed):\n",
    "  torch.manual_seed(seed)\n",
    "  if torch.cuda.is_available():\n",
    "    torch.cuda.manual_seed_all(seed)\n",
    "\n",
    "set_seed(42)"
   ]
  },
  {
   "cell_type": "code",
   "execution_count": null,
   "metadata": {},
   "outputs": [],
   "source": [
    "\n",
    "model = T5ForConditionalGeneration.from_pretrained('./t5_paraphraser')\n",
    "tokenizer = T5Tokenizer.from_pretrained('t5-base')\n",
    "\n",
    "device = torch.device(\"cuda\" if torch.cuda.is_available() else \"cpu\")\n",
    "print (\"device \",device)\n",
    "model = model.to(device)"
   ]
  },
  {
   "cell_type": "code",
   "execution_count": 14,
   "metadata": {},
   "outputs": [],
   "source": [
    "def paraphrasing(sentence, tokenizer=tokenizer, model=model, text=None):\n",
    "    if text is None:\n",
    "        text =  \"paraphrase: \" + sentence + \" </s>\"\n",
    "\n",
    "    max_len = 256\n",
    "\n",
    "    encoding = tokenizer.encode_plus(text,pad_to_max_length=True, return_tensors=\"pt\")\n",
    "    input_ids, attention_masks = encoding[\"input_ids\"].to(device), encoding[\"attention_mask\"].to(device)\n",
    "\n",
    "\n",
    "    # set top_k = 50 and set top_p = 0.95 and num_return_sequences = 3\n",
    "    beam_outputs = model.generate(\n",
    "        input_ids=input_ids, attention_mask=attention_masks,\n",
    "        do_sample=True,\n",
    "        max_length=256,\n",
    "        top_k=120,\n",
    "        top_p=0.98,\n",
    "        early_stopping=True,\n",
    "        num_return_sequences=10\n",
    "    )\n",
    "\n",
    "\n",
    "    print (\"\\nOriginal Question ::\")\n",
    "    print (sentence)\n",
    "    print (\"\\n\")\n",
    "    print (\"Paraphrased Questions :: \")\n",
    "    final_outputs =[]\n",
    "    for beam_output in beam_outputs:\n",
    "        sent = tokenizer.decode(beam_output, skip_special_tokens=True,clean_up_tokenization_spaces=True)\n",
    "        if sent.lower() != sentence.lower() and sent not in final_outputs:\n",
    "            final_outputs.append(sent)\n",
    "\n",
    "    for i, final_output in enumerate(final_outputs):\n",
    "        print(\"{}: {}\".format(i, final_output))\n",
    "    return final_output"
   ]
  },
  {
   "cell_type": "code",
   "execution_count": 10,
   "metadata": {},
   "outputs": [
    {
     "name": "stdout",
     "output_type": "stream",
     "text": [
      "\n",
      "Original Question ::\n",
      "Which course should I take to get started in data science?\n",
      "\n",
      "\n",
      "Paraphrased Questions :: \n",
      "0: What course should I take to start data science?\n",
      "1: Which course should I take in data science?\n",
      "2: What is the best online / offline course to study data science?\n",
      "3: What course should I take to get started with the data science?\n",
      "4: Which is the best course for data science?\n",
      "5: What is best course for data science?\n",
      "6: What course should I take in Data Science to get started?\n",
      "7: Which are the best courses for the data science field?\n",
      "8: Which course should I take to be good in data science?\n",
      "9: What is the best way to learn data science?\n"
     ]
    }
   ],
   "source": [
    "\n",
    "\n",
    "\n",
    "sentence = \"Which course should I take to get started in data science?\"\n",
    "# sentence = \"What are the ingredients required to bake a perfect cake?\"\n",
    "# sentence = \"What is the best possible approach to learn aeronautical engineering?\"\n",
    "# sentence = \"Do apples taste better than oranges in general?\"\n",
    "output = paraphrasing(sentence)"
   ]
  },
  {
   "cell_type": "code",
   "execution_count": 11,
   "metadata": {},
   "outputs": [
    {
     "name": "stdout",
     "output_type": "stream",
     "text": [
      "\n",
      "Original Question ::\n",
      "Avoid displaying weapons in pictures.\n",
      "\n",
      "\n",
      "Paraphrased Questions :: \n",
      "0: Should you display your weapons in a picture?\n",
      "1: Avoid displaying weapon in a picture.\n",
      "2: The world needs new weapons, so avoid displaying them in real life.\n",
      "3: Avoid using weapons in pictures.\n",
      "4: This site is aimed at military users, do not include weapons in pictures.\n",
      "5: Avoid showing weapons or weapons with pictures.\n",
      "6: Have a knife in your picture?\n",
      "7: Is it OK to show weapons in public as pictures?\n",
      "8: Avoid displaying weapons on pictures.\n"
     ]
    }
   ],
   "source": [
    "sentence = \"Avoid displaying weapons in pictures.\"\n",
    "\n",
    "output = paraphrasing(sentence)"
   ]
  },
  {
   "cell_type": "code",
   "execution_count": 12,
   "metadata": {},
   "outputs": [
    {
     "data": {
      "application/vnd.jupyter.widget-view+json": {
       "model_id": "7ab96b93201f48258cb30dc9aaedaf3c",
       "version_major": 2,
       "version_minor": 0
      },
      "text/plain": [
       "HBox(children=(FloatProgress(value=0.0, description='Downloading', max=1199.0, style=ProgressStyle(description…"
      ]
     },
     "metadata": {},
     "output_type": "display_data"
    },
    {
     "name": "stdout",
     "output_type": "stream",
     "text": [
      "\n"
     ]
    },
    {
     "data": {
      "application/vnd.jupyter.widget-view+json": {
       "model_id": "b5efd28fa9c74f94b6b1d1905e9d77a2",
       "version_major": 2,
       "version_minor": 0
      },
      "text/plain": [
       "HBox(children=(FloatProgress(value=0.0, description='Downloading', max=891691430.0, style=ProgressStyle(descri…"
      ]
     },
     "metadata": {},
     "output_type": "display_data"
    },
    {
     "name": "stdout",
     "output_type": "stream",
     "text": [
      "\n",
      "device  cuda\n"
     ]
    }
   ],
   "source": [
    "model = T5ForConditionalGeneration.from_pretrained('t5-base')\n",
    "tokenizer = T5Tokenizer.from_pretrained('t5-base')\n",
    "\n",
    "device = torch.device(\"cuda\" if torch.cuda.is_available() else \"cpu\")\n",
    "print (\"device \",device)\n",
    "model = model.to(device)"
   ]
  },
  {
   "cell_type": "code",
   "execution_count": 16,
   "metadata": {},
   "outputs": [
    {
     "name": "stdout",
     "output_type": "stream",
     "text": [
      "\n",
      "Original Question ::\n",
      "Avoid displaying weapons in pictures.\n",
      "\n",
      "\n",
      "Paraphrased Questions :: \n",
      "0: Avoid showing Avoid displaying at displaying weapons in pictures. Al displaying displaying displaying weapons De Avoid displaying other displaying weapons in photographs. Blu displaying weapons in Pictures Pictures Without Avoid displaying the displaying displaying weapons in Pictures in Pictures: Avoid displaying avoid displaying displaying displaying weapons or Pictures Ver displaying displaying displaying weapons displaying weapons in Pictures. Avoid displaying weapons in Picture Picture Avoid displaying Arm displaying photographs displaying Alcohol displaying weapons in Pictures - Avoid displaying displaying weapons the displaying\n",
      "1: Avoid displaying displaying on displaying weapons in picture. Avoid Avoid displaying weapons from Picture Picture Don displaying weapons Avoid displaying: Avoid Vi Vi Display displaying displaying displaying graphic weapons in pictures. Avoid displaying displaying displaying weapons in Pictures. Ma displaying displaying weapons in Pictures Graphics Avoid displaying Vis Vis displaying Arm, Display displaying Weapon displaying Coll Coll fla B displaying displaying weapons in Pictures. Avoid displaying images Avoid displaying Fla displaying weapons in pictures Photograph displaying Arm displaying displaying weapons\n",
      "2: Avoid displaying weapons in pictures. Avoid displaying displaying weapons on Avoid displaying weapons in Pictures' Internet images. Avoid displaying weapons in Pictures, Avoid displaying weapons' Display displaying Alcohol displaying displaying images Avoid displaying displaying weapons in pictures. In Pictures. Avoid Avoid Avoid displaying Arm displaying weapons in Pictures: Avoid displaying displaying Arm weapons in Pictures; Display Via displaying Web displaying Arm displaying Arm displaying weapons in Picture Pictures. Avoid displaying displaying weapons in Picture Court in Pictures. Display Display\n",
      "3: Avoid displaying displaying weapons in pictures. Im Avoid displaying displaying weapons displaying photographs in pictures. Avoid displaying Vis Vi displaying Arme Weapon Avoid displaying pictures displaying displaying weapons in pictures pictures. Avoid displaying weapons displaying photographs displaying photographs in Pictures Si Des displaying displaying Pictures Display displaying displaying displaying weapons in pictures. displaying displaying weapons in Pictures. Avoid Avoid displaying pictures displaying Web displaying displaying objects Display displaying Weapon displaying, Image Graphic-displaying Picture displaying Photoshop displaying \n",
      "4: Avoid displaying weapons displaying Weapon displaying weapons in pictures. Avoid displaying displaying graphic weapons displaying weapons in pictures. Avoid avoid displaying weapons in Pictures Pictures. Avoid displaying weapons in Picture No Coll displaying displaying: Avoid displaying Pictures Avoid displaying weapons Wallpaper Display displaying displaying Weapon displaying displaying weapons in Pictures. Avoid displaying images Avoid displaying displaying weapons in Pictures. Remove displaying displaying weapons in Pictures. Remove displaying in displaying photographs Avoid Avoid displaying displaying weapons Al Avoid displaying images \n",
      "5: Stop displaying displaying weapons A Display displaying displaying Wallpaper displaying displaying weapons in pictures. avoid Avoid displaying displaying weapons in Pictures. Avoid displaying displaying weapons in Pictures; displaying weapons in Pictures Pictures: Avoid displaying Pictures Pre displaying Hal displaying weapons in Pictures Pictures. Avoid displaying displays Avoid displaying objects displaying. Avoid displaying displaying displaying weapons in Pictures. Avoid Avoid displaying displaying displaying weapons in Pictures Pictures. Avoid displaying displaying this Avoid Avoid displaying displays in Images Avoid \n",
      "6: Avoid displaying displays Arm display displaying weapons in pictures. Avoid displaying weapons in Pictures without B Prezent displaying displaying weapons displaying weapons in pictures. Avoid displaying videos In Pictures Vidisplaying displaying Arm displaying displaying weapons in pictures. - Avoid displaying displaying displaying weapons in Pictures: Avoid Avoid Avoid Avoid displaying displaying graphics in Pictures. Avoid displaying Arm displays displaying Weapon in Pictures Pictures:: Avoid displaying weapons in Pictures El Avoid displaying photographs displaying Coll displaying weapons in Pictures Pictures Ma Computer Avoid Avoid\n",
      "7: Avoid: Avoid displaying weapons in pictures. Avoid displaying, Avoid displaying weapons, Avoid displaying displaying weapons in pictures; Remove: Avoid Avoid displaying of weapons displaying Web displaying displaying weapons displaying weapons displaying weapons in Pictures. Avoid displaying weapons displaying weapons displaying weapons Un Avoid displaying displaying displaying weapons in Pictures. Avoid displaying weapons in Picture Picture displaying displaying weapons in Pictures: Avoid Avoid displaying displaying displaying weapons in Pictures: Avoid Avoid Avoid displaying displaying weapons on displaying weapons\n",
      "8: Avoid Avoid displaying displaying the displaying weapons in Pictures: Avoid displaying weapons in pictures.\n",
      "9: Avoid displaying guns against Display displaying displaying weapons displayed displaying weapons in pictures. Avoid Avoid displaying displaying weapons in Pictures; avoid displaying displaying weapons in Pictures: Avoid displaying displaying weapons in displaying weapons in pictures. Avoid displaying displaying displaying enemies displaying weapons in Images Images: Avoid displaying displaying displaying Arm displaying weapons Web Avoid displaying weapons in Pictures Pictures Images' Avoid Avoid displaying Avoid displaying clothing displaying Microsoft Pictures Pictures. Im Avoid displaying display displaying weapons in Images: Avoid \n"
     ]
    }
   ],
   "source": [
    "sentence = \"Avoid displaying weapons in pictures.\"\n",
    "\n",
    "output = paraphrasing(sentence, model=model, tokenizer=tokenizer, text='QQsentence)"
   ]
  },
  {
   "cell_type": "code",
   "execution_count": null,
   "metadata": {},
   "outputs": [],
   "source": []
  }
 ],
 "metadata": {
  "kernelspec": {
   "display_name": "dl with Python3.7",
   "language": "python",
   "name": "py37_dl"
  },
  "language_info": {
   "codemirror_mode": {
    "name": "ipython",
    "version": 3
   },
   "file_extension": ".py",
   "mimetype": "text/x-python",
   "name": "python",
   "nbconvert_exporter": "python",
   "pygments_lexer": "ipython3",
   "version": "3.7.6"
  }
 },
 "nbformat": 4,
 "nbformat_minor": 4
}
